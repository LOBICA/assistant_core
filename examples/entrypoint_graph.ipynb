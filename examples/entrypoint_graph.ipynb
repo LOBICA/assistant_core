{
 "cells": [
  {
   "cell_type": "markdown",
   "id": "a6710eba",
   "metadata": {},
   "source": [
    "# Entrypoint Graph\n",
    "\n",
    "This example shows how builders that repeatedly set a new entry point, and how the final graph would look like."
   ]
  },
  {
   "cell_type": "markdown",
   "id": "2a52785c",
   "metadata": {},
   "source": [
    "First we define a basic builder. You can check the basic example for more details."
   ]
  },
  {
   "cell_type": "code",
   "execution_count": 1,
   "id": "c9717e14",
   "metadata": {},
   "outputs": [],
   "source": [
    "from IPython.display import Image, display\n",
    "\n",
    "from langgraph.checkpoint.memory import MemorySaver\n",
    "from langgraph.graph import MessagesState, StateGraph\n",
    "\n",
    "from assistant_core.builder import BuilderContext, SingleAgent, BaseBuilder\n",
    "from assistant_core.factories import BaseAgentFactory\n",
    "from assistant_core.nodes import AgentNode, PromptNode\n",
    "from assistant_core.settings import OPENAI_API_KEY"
   ]
  },
  {
   "cell_type": "code",
   "execution_count": 2,
   "id": "0867fa01",
   "metadata": {},
   "outputs": [],
   "source": [
    "ASSISTANT_PROMPT = \"\"\"\n",
    "You are a helpful assistant.\n",
    "\"\"\"\n",
    "\n",
    "\n",
    "class GeneralAssistantFactory(BaseAgentFactory):\n",
    "    \"\"\"Factory for creating a general-purpose assistant agent.\"\"\"\n",
    "\n",
    "    def create_graph_builder(self):\n",
    "        return StateGraph(MessagesState)\n",
    "\n",
    "    def create_agent_node(self):\n",
    "        return AgentNode(\n",
    "            name=\"assistant\",\n",
    "            model=self.model,\n",
    "            prompts=[ASSISTANT_PROMPT],\n",
    "        )"
   ]
  },
  {
   "cell_type": "code",
   "execution_count": 3,
   "id": "4fde39ac",
   "metadata": {},
   "outputs": [],
   "source": [
    "context = BuilderContext(\n",
    "    GeneralAssistantFactory(\n",
    "        {\n",
    "            \"OPENAI_API_KEY\": OPENAI_API_KEY,\n",
    "        }\n",
    "    )\n",
    ")"
   ]
  },
  {
   "cell_type": "markdown",
   "id": "fdce1c5e",
   "metadata": {},
   "source": [
    "Create a demo builder that creates a dummy node and set it at the entrypoint."
   ]
  },
  {
   "cell_type": "code",
   "execution_count": 4,
   "id": "e9aa24da",
   "metadata": {},
   "outputs": [],
   "source": [
    "class CustomBuilderWithEntrypoint(BaseBuilder):\n",
    "    def __init__(self, custom_node_name: str):\n",
    "        super().__init__()\n",
    "        self.custom_node_name = custom_node_name\n",
    "\n",
    "    def build(self, context):\n",
    "        custom_node = PromptNode(\n",
    "            name=self.custom_node_name,\n",
    "            prompt=f\"Testing the custom node {self.custom_node_name}\",\n",
    "        )\n",
    "\n",
    "        context.graph_builder.add_node(\n",
    "            custom_node.name,\n",
    "            custom_node,\n",
    "        )\n",
    "\n",
    "        context.entrypoint = custom_node.name"
   ]
  },
  {
   "cell_type": "code",
   "execution_count": 5,
   "id": "ab052193",
   "metadata": {},
   "outputs": [],
   "source": [
    "agent = SingleAgent()\n",
    "agent.add_builder(CustomBuilderWithEntrypoint(\"custom_node_1\"))\n",
    "agent.add_builder(CustomBuilderWithEntrypoint(\"custom_node_2\"))\n",
    "agent.add_builder(CustomBuilderWithEntrypoint(\"custom_node_3\"))\n",
    "\n",
    "workflow = agent.make(context)\n",
    "graph = workflow.compile(checkpointer=MemorySaver())"
   ]
  },
  {
   "cell_type": "markdown",
   "id": "d4e142a7",
   "metadata": {},
   "source": [
    "This is how the final graph looks like:"
   ]
  },
  {
   "cell_type": "code",
   "execution_count": 6,
   "id": "734c7383",
   "metadata": {},
   "outputs": [
    {
     "data": {
      "image/png": "[encoded data removed]",
      "text/plain": [
       "<IPython.core.display.Image object>"
      ]
     },
     "metadata": {},
     "output_type": "display_data"
    }
   ],
   "source": [
    "display(Image(graph.get_graph().draw_mermaid_png()))"
   ]
  },
  {
   "cell_type": "markdown",
   "id": "aadae157",
   "metadata": {},
   "source": [
    "\n",
    "Execute the graph for a basic example:"
   ]
  },
  {
   "cell_type": "code",
   "execution_count": 7,
   "id": "414d3ddf",
   "metadata": {},
   "outputs": [
    {
     "name": "stdout",
     "output_type": "stream",
     "text": [
      "{'custom_node_3': {'messages': [SystemMessage(content='Testing the custom node custom_node_3', additional_kwargs={}, response_metadata={}, id='895c661a-69d1-414e-8b2a-3930403496da')]}}\n",
      "{'custom_node_2': {'messages': [SystemMessage(content='Testing the custom node custom_node_2', additional_kwargs={}, response_metadata={}, id='6ca084a5-1b63-418a-ad15-b1a3f5177231')]}}\n",
      "{'custom_node_1': {'messages': [SystemMessage(content='Testing the custom node custom_node_1', additional_kwargs={}, response_metadata={}, id='8586300d-afff-416c-86b6-df68b8d6859e')]}}\n",
      "{'assistant': {'messages': [AIMessage(content=[{'type': 'text', 'text': 'We’re testing three custom nodes: custom_node_1, custom_node_2, and custom_node_3. Want to run a quick test input or review their current outputs/status?', 'annotations': []}], additional_kwargs={'reasoning': {'id': 'rs_09fd4d6f228b3faf0068e03f87a5bc81a3b4f06a887a318c94', 'summary': [], 'type': 'reasoning'}}, response_metadata={'id': 'resp_09fd4d6f228b3faf0068e03f87222c81a3badd2e587f780194', 'created_at': 1759526791.0, 'metadata': {}, 'model': 'gpt-5-nano-2025-08-07', 'object': 'response', 'service_tier': 'default', 'status': 'completed', 'model_name': 'gpt-5-nano-2025-08-07'}, id='msg_09fd4d6f228b3faf0068e03f8ae01c81a3a7005a2edb7ae593', usage_metadata={'input_tokens': 60, 'output_tokens': 555, 'total_tokens': 615, 'input_token_details': {'cache_read': 0}, 'output_token_details': {'reasoning': 512}})]}}\n"
     ]
    }
   ],
   "source": [
    "async for step in graph.astream(\n",
    "    {\"messages\": [{\"role\": \"user\", \"content\": \"Hello, what are we doing?\"}]},\n",
    "    config={\"configurable\": {\"thread_id\": \"test_entrypoint\"}},\n",
    "):\n",
    "    print(step)"
   ]
  }
 ],
 "metadata": {
  "kernelspec": {
   "display_name": "assistant-core-HLNqoxjG-py3.12",
   "language": "python",
   "name": "python3"
  },
  "language_info": {
   "codemirror_mode": {
    "name": "ipython",
    "version": 3
   },
   "file_extension": ".py",
   "mimetype": "text/x-python",
   "name": "python",
   "nbconvert_exporter": "python",
   "pygments_lexer": "ipython3",
   "version": "3.12.3"
  }
 },
 "nbformat": 4,
 "nbformat_minor": 5
}
