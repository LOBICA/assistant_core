{
 "cells": [
  {
   "cell_type": "markdown",
   "id": "cd7665bb",
   "metadata": {},
   "source": [
    "## Question Example\n",
    "\n",
    "To run this example, don't forget to set your `OPEN_API_KEY` on your `.env` file"
   ]
  },
  {
   "cell_type": "code",
   "execution_count": 1,
   "id": "b1058951",
   "metadata": {},
   "outputs": [],
   "source": [
    "from IPython.display import Image, display\n",
    "from annotated_types import Annotated\n",
    "\n",
    "from langgraph.checkpoint.memory import MemorySaver\n",
    "from langgraph.graph import StateGraph\n",
    "from langgraph.types import Command\n",
    "from langgraph.prebuilt import InjectedState\n",
    "from langchain_core.tools import tool, InjectedToolCallId\n",
    "from langchain_core.messages import ToolMessage\n",
    "\n",
    "\n",
    "from assistant_core.builder import BuilderContext, SingleAgent\n",
    "from assistant_core.builder.question import QuestionBuilder, ProcessAnswerNode\n",
    "from assistant_core.factories import BaseAgentFactory\n",
    "from assistant_core.nodes import AgentNode\n",
    "from assistant_core.state import NextProcessState, QuestionState"
   ]
  },
  {
   "cell_type": "code",
   "execution_count": 2,
   "id": "4d7a7f91",
   "metadata": {},
   "outputs": [],
   "source": [
    "ASSISTANT_PROMPT = \"\"\"\n",
    "You are a helpful assistant.\n",
    "\"\"\""
   ]
  },
  {
   "cell_type": "code",
   "execution_count": 3,
   "id": "9d6b1985",
   "metadata": {},
   "outputs": [],
   "source": [
    "config = {\"configurable\": {\"thread_id\": \"test\"}}"
   ]
  },
  {
   "cell_type": "code",
   "execution_count": 4,
   "id": "7a9bf661",
   "metadata": {},
   "outputs": [],
   "source": [
    "class ExampleState(NextProcessState):\n",
    "    name: str | None = None\n",
    "\n",
    "\n",
    "@tool\n",
    "def verify_user_information(\n",
    "    state: Annotated[dict, InjectedState],\n",
    "    tool_call_id: Annotated[str, InjectedToolCallId],\n",
    ") -> ExampleState:\n",
    "    \"\"\"Verify user's information.\"\"\"\n",
    "\n",
    "    if state.get(\"name\") is None:\n",
    "        return Command(\n",
    "            update={\n",
    "                \"next\": QuestionBuilder.get_node_name(\n",
    "                    QuestionBuilder.Nodes.CREATE_QUESTION, \"ask_name\"\n",
    "                ),\n",
    "                \"messages\": [\n",
    "                    ToolMessage(\n",
    "                        content=\"Asking the user for their name.\",\n",
    "                        tool_call_id=tool_call_id,\n",
    "                    )\n",
    "                ],\n",
    "            }\n",
    "        )\n",
    "\n",
    "    return Command(\n",
    "        update={\n",
    "            \"messages\": [\n",
    "                ToolMessage(\n",
    "                    content=f\"User name is {state['name']}.\", tool_call_id=tool_call_id\n",
    "                )\n",
    "            ],\n",
    "        }\n",
    "    )\n",
    "\n",
    "\n",
    "class GeneralAssistantFactory(BaseAgentFactory):\n",
    "    \"\"\"Factory for creating a general-purpose assistant agent.\"\"\"\n",
    "\n",
    "    def create_graph_builder(self):\n",
    "        return StateGraph(ExampleState)\n",
    "\n",
    "    def create_agent_node(self):\n",
    "        return AgentNode(\n",
    "            name=\"assistant\",\n",
    "            model=self.model,\n",
    "            prompts=[ASSISTANT_PROMPT],\n",
    "        )\n",
    "\n",
    "    def create_base_tools(self):\n",
    "        return [verify_user_information]"
   ]
  },
  {
   "cell_type": "code",
   "execution_count": 5,
   "id": "91336731",
   "metadata": {},
   "outputs": [],
   "source": [
    "class SaveUserName(ProcessAnswerNode):\n",
    "    async def __call__(self, state: QuestionState, config):\n",
    "        state_update = await super().__call__(state, config)\n",
    "        prompt = \"\"\"\n",
    "            Question:\n",
    "            {question}\n",
    "\n",
    "            Answer:\n",
    "            {answer}\n",
    "\n",
    "            Extract the user name from the answer, return only the name. If no name is found, return \"__unknown__\".\n",
    "        \"\"\"\n",
    "\n",
    "        response = await self.model.ainvoke(\n",
    "            prompt.format(question=state[\"question\"], answer=state[\"answer\"])\n",
    "        )\n",
    "\n",
    "        if response.content == \"__unknown__\":\n",
    "            name = None\n",
    "        else:\n",
    "            name = response.content.strip()\n",
    "\n",
    "        state_update[\"name\"] = name\n",
    "        return Command(update=state_update)"
   ]
  },
  {
   "cell_type": "code",
   "execution_count": 6,
   "id": "1e90760e",
   "metadata": {},
   "outputs": [],
   "source": [
    "def get_assistant_graph():\n",
    "    context = BuilderContext(GeneralAssistantFactory())\n",
    "\n",
    "    director = SingleAgent()\n",
    "    director.add_builder(\n",
    "        QuestionBuilder(\n",
    "            \"ask_name\",\n",
    "            \"Ask the user for their name\",\n",
    "            process_answer_node_cls=SaveUserName,\n",
    "        )\n",
    "    )\n",
    "\n",
    "    workflow = director.make(context)\n",
    "    return workflow.compile(checkpointer=MemorySaver())"
   ]
  },
  {
   "cell_type": "code",
   "execution_count": 7,
   "id": "c82ee608",
   "metadata": {},
   "outputs": [
    {
     "data": {
      "image/png": "[encoded data removed]",
      "text/plain": [
       "<IPython.core.display.Image object>"
      ]
     },
     "metadata": {},
     "output_type": "display_data"
    }
   ],
   "source": [
    "graph = get_assistant_graph()\n",
    "\n",
    "display(Image(graph.get_graph().draw_mermaid_png()))"
   ]
  },
  {
   "cell_type": "code",
   "execution_count": 8,
   "id": "ad979157",
   "metadata": {},
   "outputs": [
    {
     "data": {
      "text/plain": [
       "{'assistant': {'messages': [AIMessage(content='', additional_kwargs={'tool_calls': [{'id': 'call_TK0HTAYD2mLXFDacY2127QWJ', 'function': {'arguments': '{}', 'name': 'verify_user_information'}, 'type': 'function'}], 'refusal': None}, response_metadata={'token_usage': {'completion_tokens': 84, 'prompt_tokens': 129, 'total_tokens': 213, 'completion_tokens_details': {'accepted_prediction_tokens': 0, 'audio_tokens': 0, 'reasoning_tokens': 64, 'rejected_prediction_tokens': 0}, 'prompt_tokens_details': {'audio_tokens': 0, 'cached_tokens': 0}}, 'model_name': 'gpt-5-nano-2025-08-07', 'system_fingerprint': None, 'id': 'chatcmpl-CG9avvZBYsit4o5x6bY4pl5fxOdsN', 'service_tier': 'default', 'finish_reason': 'tool_calls', 'logprobs': None}, id='run--2e722a89-5429-4f8b-80eb-b0dfe1f98bc6-0', tool_calls=[{'name': 'verify_user_information', 'args': {}, 'id': 'call_TK0HTAYD2mLXFDacY2127QWJ', 'type': 'tool_call'}], usage_metadata={'input_tokens': 129, 'output_tokens': 84, 'total_tokens': 213, 'input_token_details': {'audio': 0, 'cache_read': 0}, 'output_token_details': {'audio': 0, 'reasoning': 64}})]}}"
      ]
     },
     "metadata": {},
     "output_type": "display_data"
    },
    {
     "data": {
      "text/plain": [
       "{'tools_assistant': {'next': 'create_question_ask_name',\n",
       "  'messages': [ToolMessage(content='Asking the user for their name.', name='verify_user_information', id='b1fd6360-789a-4ebe-b5b2-0fdf1e3d7eeb', tool_call_id='call_TK0HTAYD2mLXFDacY2127QWJ')]}}"
      ]
     },
     "metadata": {},
     "output_type": "display_data"
    },
    {
     "data": {
      "text/plain": [
       "{'resolver': {'next': None}}"
      ]
     },
     "metadata": {},
     "output_type": "display_data"
    },
    {
     "data": {
      "text/plain": [
       "{'create_question_ask_name': {'question': 'Please provide your full name (as used on your account) to verify your information.'}}"
      ]
     },
     "metadata": {},
     "output_type": "display_data"
    },
    {
     "data": {
      "text/plain": [
       "{'__interrupt__': (Interrupt(value={'question': 'Please provide your full name (as used on your account) to verify your information.'}, resumable=True, ns=['question_ask_name:be408538-e0e8-2869-a9d2-44956cc6dce7'], when='during'),)}"
      ]
     },
     "metadata": {},
     "output_type": "display_data"
    }
   ],
   "source": [
    "async for step in graph.astream(\n",
    "    {\n",
    "        \"messages\": [\n",
    "            {\n",
    "                \"role\": \"user\",\n",
    "                \"content\": \"Verify user information\",\n",
    "            }\n",
    "        ],\n",
    "    },\n",
    "    config=config,\n",
    "):\n",
    "    display(step)"
   ]
  },
  {
   "cell_type": "code",
   "execution_count": 9,
   "id": "f0fb06da",
   "metadata": {},
   "outputs": [
    {
     "data": {
      "text/plain": [
       "{'question_ask_name': {'question': 'Please provide your full name (as used on your account) to verify your information.',\n",
       "  'answer': 'Andres Javier'}}"
      ]
     },
     "metadata": {},
     "output_type": "display_data"
    },
    {
     "data": {
      "text/plain": [
       "{'process_answer_ask_name': {'messages': [AIMessage(content='Please provide your full name (as used on your account) to verify your information.', additional_kwargs={}, response_metadata={}, id='cd895e40-71c4-4336-a291-f20eff2662bc'),\n",
       "   HumanMessage(content='Andres Javier', additional_kwargs={}, response_metadata={}, id='8c43db28-445d-4aa7-bc56-c32e4a84dbcb')],\n",
       "  'name': 'Andres Javier'}}"
      ]
     },
     "metadata": {},
     "output_type": "display_data"
    },
    {
     "data": {
      "text/plain": [
       "{'resolver': {'next': None}}"
      ]
     },
     "metadata": {},
     "output_type": "display_data"
    },
    {
     "data": {
      "text/plain": [
       "{'assistant': {'messages': [AIMessage(content='Thanks, Andres Javier. To complete verification, please provide:\\n- Date of birth (MM/DD/YYYY) and\\n- Last 4 digits of your account number.', additional_kwargs={'refusal': None}, response_metadata={'token_usage': {'completion_tokens': 874, 'prompt_tokens': 193, 'total_tokens': 1067, 'completion_tokens_details': {'accepted_prediction_tokens': 0, 'audio_tokens': 0, 'reasoning_tokens': 832, 'rejected_prediction_tokens': 0}, 'prompt_tokens_details': {'audio_tokens': 0, 'cached_tokens': 0}}, 'model_name': 'gpt-5-nano-2025-08-07', 'system_fingerprint': None, 'id': 'chatcmpl-CG9b3to1tNhudWZ0awZNfZKd7ydLl', 'service_tier': 'default', 'finish_reason': 'stop', 'logprobs': None}, id='run--461070f7-bd34-4f1b-a784-1779fa6b1980-0', usage_metadata={'input_tokens': 193, 'output_tokens': 874, 'total_tokens': 1067, 'input_token_details': {'audio': 0, 'cache_read': 0}, 'output_token_details': {'audio': 0, 'reasoning': 832}})]}}"
      ]
     },
     "metadata": {},
     "output_type": "display_data"
    }
   ],
   "source": [
    "async for step in graph.astream(\n",
    "    Command(resume={\"answer\": \"Andres Javier\"}), config=config\n",
    "):\n",
    "    display(step)"
   ]
  }
 ],
 "metadata": {
  "kernelspec": {
   "display_name": "assistant-core-HLNqoxjG-py3.12",
   "language": "python",
   "name": "python3"
  },
  "language_info": {
   "codemirror_mode": {
    "name": "ipython",
    "version": 3
   },
   "file_extension": ".py",
   "mimetype": "text/x-python",
   "name": "python",
   "nbconvert_exporter": "python",
   "pygments_lexer": "ipython3",
   "version": "3.12.3"
  }
 },
 "nbformat": 4,
 "nbformat_minor": 5
}
