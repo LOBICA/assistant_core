{
 "cells": [
  {
   "cell_type": "markdown",
   "id": "cd7665bb",
   "metadata": {},
   "source": [
    "## Basic Example\n",
    "\n",
    "To run this example, don't forget to set your `OPEN_API_KEY` on your `.env` file"
   ]
  },
  {
   "cell_type": "code",
   "execution_count": 1,
   "id": "b1058951",
   "metadata": {},
   "outputs": [],
   "source": [
    "from IPython.display import Image, display\n",
    "\n",
    "from langgraph.checkpoint.memory import MemorySaver\n",
    "from langgraph.graph import MessagesState, StateGraph\n",
    "\n",
    "\n",
    "from assistant_core.builder import BuilderContext, SingleAgent\n",
    "from assistant_core.factories import BaseAgentFactory\n",
    "from assistant_core.nodes import AgentNode"
   ]
  },
  {
   "cell_type": "code",
   "execution_count": 2,
   "id": "4d7a7f91",
   "metadata": {},
   "outputs": [],
   "source": [
    "ASSISTANT_PROMPT = \"\"\"\n",
    "You are a helpful assistant.\n",
    "\"\"\""
   ]
  },
  {
   "cell_type": "code",
   "execution_count": 3,
   "id": "7a9bf661",
   "metadata": {},
   "outputs": [],
   "source": [
    "class GeneralAssistantFactory(BaseAgentFactory):\n",
    "    \"\"\"Factory for creating a general-purpose assistant agent.\"\"\"\n",
    "\n",
    "    def create_graph_builder(self):\n",
    "        return StateGraph(MessagesState)\n",
    "\n",
    "    def create_agent_node(self):\n",
    "        return AgentNode(\n",
    "            name=\"assistant\",\n",
    "            model=self.model,\n",
    "            prompts=[ASSISTANT_PROMPT],\n",
    "        )"
   ]
  },
  {
   "cell_type": "code",
   "execution_count": 4,
   "id": "1e90760e",
   "metadata": {},
   "outputs": [],
   "source": [
    "def get_assistant_graph():\n",
    "    context = BuilderContext(GeneralAssistantFactory())\n",
    "\n",
    "    director = SingleAgent()\n",
    "\n",
    "    workflow = director.make(context)\n",
    "    return workflow.compile(checkpointer=MemorySaver())"
   ]
  },
  {
   "cell_type": "code",
   "execution_count": 5,
   "id": "9d6b1985",
   "metadata": {},
   "outputs": [],
   "source": [
    "config = {\"configurable\": {\"thread_id\": \"test\"}}"
   ]
  },
  {
   "cell_type": "code",
   "execution_count": 6,
   "id": "c82ee608",
   "metadata": {},
   "outputs": [
    {
     "data": {
      "image/png": "[encoded data removed]",
      "text/plain": [
       "<IPython.core.display.Image object>"
      ]
     },
     "metadata": {},
     "output_type": "display_data"
    }
   ],
   "source": [
    "graph = get_assistant_graph()\n",
    "\n",
    "display(Image(graph.get_graph().draw_mermaid_png()))"
   ]
  },
  {
   "cell_type": "code",
   "execution_count": 7,
   "id": "ad979157",
   "metadata": {},
   "outputs": [
    {
     "data": {
      "text/plain": [
       "'Message received. How can I help you today?'"
      ]
     },
     "metadata": {},
     "output_type": "display_data"
    }
   ],
   "source": [
    "response = await graph.ainvoke(\n",
    "    {\n",
    "        \"messages\": [\n",
    "            {\n",
    "                \"role\": \"user\",\n",
    "                \"content\": \"Test message\",\n",
    "            }\n",
    "        ],\n",
    "    },\n",
    "    config=config,\n",
    ")\n",
    "\n",
    "display(response[\"messages\"][-1].content)"
   ]
  }
 ],
 "metadata": {
  "kernelspec": {
   "display_name": "assistant-core-HLNqoxjG-py3.12",
   "language": "python",
   "name": "python3"
  },
  "language_info": {
   "codemirror_mode": {
    "name": "ipython",
    "version": 3
   },
   "file_extension": ".py",
   "mimetype": "text/x-python",
   "name": "python",
   "nbconvert_exporter": "python",
   "pygments_lexer": "ipython3",
   "version": "3.12.3"
  }
 },
 "nbformat": 4,
 "nbformat_minor": 5
}
